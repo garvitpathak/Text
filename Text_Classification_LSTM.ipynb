{
  "cells": [
    {
      "cell_type": "code",
      "execution_count": 2,
      "metadata": {
        "id": "gJzomkzdX5cK"
      },
      "outputs": [],
      "source": [
        "import pandas as pd\n",
        "import numpy as np\n",
        "from keras.preprocessing.text import Tokenizer\n",
        "from tensorflow.keras.preprocessing.sequence import pad_sequences\n",
        "from keras.models import Sequential\n",
        "from keras.layers import Dense, Embedding, LSTM, Conv1D, GlobalMaxPooling1D\n",
        "from keras.preprocessing.text import Tokenizer\n",
        "import torch\n",
        "import matplotlib.pyplot as plt\n",
        "from sklearn.model_selection import train_test_split"
      ]
    },
    {
      "cell_type": "code",
      "execution_count": 3,
      "metadata": {
        "id": "lj4vuahD-1PU"
      },
      "outputs": [],
      "source": [
        "torch.seed()\n",
        "np.random.seed(2201445)"
      ]
    },
    {
      "cell_type": "code",
      "execution_count": 4,
      "metadata": {
        "id": "m0_8edfkG1kJ"
      },
      "outputs": [],
      "source": [
        "def Train_Model_1(train_df):\n",
        "  # Tokenize the text data\n",
        "  tokenizer = Tokenizer(num_words=5000, oov_token=\"<OOV>\")\n",
        "  tokenizer.fit_on_texts(train_df['Text'])\n",
        "  X_train = tokenizer.texts_to_sequences(train_df['Text'])\n",
        "  X_train = pad_sequences(X_train, maxlen=200)\n",
        "  # Split the training data into training and validation sets\n",
        "  y_train = train_df['Label']\n",
        "  X_train, X_val, y_train, y_val = train_test_split(X_train, y_train, test_size=0.2, random_state=42)\n",
        "  # Define the LSTM model\n",
        "  model = Sequential()\n",
        "  model.add(Embedding(5000, 128, input_length=200))\n",
        "  model.add(LSTM(128, dropout=0.2, recurrent_dropout=0.2))\n",
        "  model.add(Dense(1, activation='sigmoid'))\n",
        "  # Compile the model\n",
        "  model.compile(loss='binary_crossentropy', optimizer='adam', metrics=['accuracy'])\n",
        "  history=model.fit(X_train, y_train, validation_data=(X_val, y_val), epochs=5, batch_size=64)\n",
        "  return model,history"
      ]
    },
    {
      "cell_type": "code",
      "execution_count": 5,
      "metadata": {
        "id": "jXDiPUopYmgJ"
      },
      "outputs": [],
      "source": [
        "def test_model_1(test_df,model,history):\n",
        "    # Tokenize the text data\n",
        "  X_test = tokenizer.texts_to_sequences(test_df['Text'])\n",
        "  X_test = pad_sequences(X_test, maxlen=200)\n",
        "  # Evaluate the model on the testing data\n",
        "  y_test = test_df['Label']\n",
        "  loss, accuracy = model.evaluate(X_test, y_test)\n",
        "  print('Test accuracy:', accuracy)\n",
        "  # Plot accuracy curves\n",
        "  plt.plot(history.history['accuracy'], label='LSTM Training Accuracy')\n",
        "  plt.plot(history.history['val_accuracy'], label='LSTM Validation Accuracy')\n",
        "  plt.xlabel('Epoch')\n",
        "  plt.ylabel('Accuracy')\n",
        "  plt.legend()\n",
        "  plt.show()"
      ]
    },
    {
      "cell_type": "code",
      "execution_count": 6,
      "metadata": {
        "id": "Zc2Uuf4jHny6"
      },
      "outputs": [],
      "source": [
        "def train_model_2(train_df):\n",
        "    # Tokenize the text data\n",
        "  tokenizer = Tokenizer(num_words=5000, oov_token=\"<OOV>\")\n",
        "  tokenizer.fit_on_texts(train_df['Text'])\n",
        "  X_train = tokenizer.texts_to_sequences(train_df['Text'])\n",
        "  X_train = pad_sequences(X_train, maxlen=200)\n",
        "  y_train = train_df['Label']\n",
        "  # Split the training data into training and validation sets\n",
        "  X_train, X_val, y_train, y_val = train_test_split(X_train, y_train, test_size=0.2, random_state=42)\n",
        "  # Define the CNN model\n",
        "  model2 = Sequential()\n",
        "  model2.add(Embedding(5000, 128, input_length=200))\n",
        "  model2.add(Conv1D(128, 5, activation='relu'))\n",
        "  model2.add(GlobalMaxPooling1D())\n",
        "  model2.add(Dense(1, activation='sigmoid'))\n",
        "  # Compile the model\n",
        "  model2.compile(loss='binary_crossentropy', optimizer='adam', metrics=['accuracy'])\n",
        "  # Train the model\n",
        "  history=model2.fit(X_train, y_train, validation_data=(X_val, y_val), epochs=5, batch_size=64)\n",
        "  return model,history"
      ]
    },
    {
      "cell_type": "code",
      "execution_count": 7,
      "metadata": {
        "id": "l-N_UdOYe2pV"
      },
      "outputs": [],
      "source": [
        "def test_model_2(test_df,model2,history):\n",
        "    # Tokenize the text data\n",
        "  X_test = tokenizer.texts_to_sequences(test_df['Text'])\n",
        "  X_test = pad_sequences(X_test, maxlen=200)\n",
        "  # Evaluate the model on the testing data\n",
        "  y_test = test_df['Label']\n",
        "  loss, accuracy = model2.evaluate(X_test, y_test)\n",
        "  print('Test accuracy:', accuracy)\n",
        "  # Plot accuracy curves\n",
        "  plt.plot(history.history['accuracy'], label='LSTM Training Accuracy')\n",
        "  plt.plot(history.history['val_accuracy'], label='LSTM Validation Accuracy')\n",
        "  plt.xlabel('Epoch')\n",
        "  plt.ylabel('Accuracy')\n",
        "  plt.legend()\n",
        "  plt.show()\n",
        "  "
      ]
    },
    {
      "cell_type": "code",
      "execution_count": 11,
      "metadata": {
        "id": "yyniOYGLIIxJ"
      },
      "outputs": [],
      "source": [
        "train_df = pd.read_csv('/content/train.csv',header = None,delimiter=',')\n",
        "train_df.columns = ['id','Text', 'Label']\n",
        "train_df.drop(0,axis=0,inplace=True)\n",
        "train_df['Label'].replace({'NOT': 0, 'OFF': 1}, inplace=True)\n",
        "test_df=pd.read_csv('/content/test.csv',header = None,delimiter=',')\n",
        "test_df.columns = ['id','Text', 'Label']\n",
        "test_df.drop(0,axis=0,inplace=True)\n",
        "test_df['Label'].replace({'NOT': 0, 'OFF': 1}, inplace=True)"
      ]
    },
    {
      "cell_type": "code",
      "execution_count": null,
      "metadata": {
        "colab": {
          "base_uri": "https://localhost:8080/"
        },
        "id": "UgZRd4BHIKgG",
        "outputId": "2a574277-9e02-4387-e710-331a93023d00"
      },
      "outputs": [
        {
          "name": "stderr",
          "output_type": "stream",
          "text": [
            "WARNING:tensorflow:Layer lstm will not use cuDNN kernels since it doesn't meet the criteria. It will use a generic GPU kernel as fallback when running on GPU.\n"
          ]
        },
        {
          "name": "stdout",
          "output_type": "stream",
          "text": [
            "Epoch 1/5\n",
            "128/154 [=======================>......] - ETA: 26s - loss: 0.6131 - accuracy: 0.6758"
          ]
        }
      ],
      "source": [
        "model,history=Train_Model_1(train_df)\n",
        "test_model_1(test_df,model,history)"
      ]
    },
    {
      "cell_type": "code",
      "execution_count": null,
      "metadata": {
        "id": "nk2IkIwfIqZB"
      },
      "outputs": [],
      "source": [
        "model,history=train_model_2(train_df)\n",
        "test_model_2(test_df,model,history)"
      ]
    },
    {
      "cell_type": "code",
      "execution_count": null,
      "metadata": {
        "colab": {
          "base_uri": "https://localhost:8080/"
        },
        "id": "Va9gD63hiexD",
        "outputId": "5243a087-aca9-4d3a-f5a6-c484a0abf3cc"
      },
      "outputs": [
        {
          "name": "stdout",
          "output_type": "stream",
          "text": [
            "Epoch 1/5\n",
            "145/145 [==============================] - 1s 9ms/step - loss: 0.0267 - accuracy: 0.9935 - val_loss: 1.3386 - val_accuracy: 0.7447\n",
            "Epoch 2/5\n",
            "145/145 [==============================] - 1s 9ms/step - loss: 0.0220 - accuracy: 0.9944 - val_loss: 1.3469 - val_accuracy: 0.7561\n",
            "Epoch 3/5\n",
            "145/145 [==============================] - 1s 9ms/step - loss: 0.0162 - accuracy: 0.9962 - val_loss: 1.3863 - val_accuracy: 0.7489\n",
            "Epoch 4/5\n",
            "145/145 [==============================] - 1s 8ms/step - loss: 0.0153 - accuracy: 0.9961 - val_loss: 1.3855 - val_accuracy: 0.7535\n",
            "Epoch 5/5\n",
            "145/145 [==============================] - 2s 11ms/step - loss: 0.0132 - accuracy: 0.9963 - val_loss: 1.4032 - val_accuracy: 0.7493\n",
            "97/97 [==============================] - 0s 3ms/step - loss: 1.4032 - accuracy: 0.7493\n",
            "Test accuracy: 0.7492692470550537\n"
          ]
        }
      ],
      "source": [
        "# Tokenize the text data\n",
        "tokenizer = Tokenizer(num_words=5000, oov_token=\"<OOV>\")\n",
        "tokenizer.fit_on_texts(train_df['Text'])\n",
        "X_train = tokenizer.texts_to_sequences(train_df['Text'])\n",
        "X_train = pad_sequences(X_train, maxlen=200)\n",
        "y_train = train_df['Label']\n",
        "X_train, X_val, y_train, y_val = train_test_split(X_train, y_train, test_size=0.25, random_state=42)\n",
        "model.fit(X_train, y_train, validation_data=(X_val, y_val), epochs=5, batch_size=64)\n",
        "# Evaluate the model on the testing data\n",
        "y_test = test_df['Label']\n",
        "loss, accuracy = model.evaluate(X_val, y_val)\n",
        "print('Test accuracy:', accuracy)"
      ]
    }
  ],
  "metadata": {
    "accelerator": "GPU",
    "colab": {
      "provenance": []
    },
    "gpuClass": "standard",
    "kernelspec": {
      "display_name": "Python 3",
      "name": "python3"
    },
    "language_info": {
      "name": "python"
    }
  },
  "nbformat": 4,
  "nbformat_minor": 0
}
